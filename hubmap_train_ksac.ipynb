{
 "cells": [
  {
   "cell_type": "code",
   "execution_count": 1,
   "id": "3cbfa470",
   "metadata": {},
   "outputs": [
    {
     "data": {
      "text/plain": [
       "922337203"
      ]
     },
     "execution_count": 1,
     "metadata": {},
     "output_type": "execute_result"
    }
   ],
   "source": [
    "import tensorflow as tf\n",
    "import numpy as np\n",
    "import cv2\n",
    "from tensorflow.keras import applications\n",
    "import os\n",
    "import csv\n",
    "import sys\n",
    "import pandas as pd\n",
    "import matplotlib.pyplot as plt\n",
    "import random\n",
    "from tqdm import tqdm\n",
    "import tensorflow.keras.backend as K\n",
    "\n",
    "maxInt = sys.maxsize\n",
    "\n",
    "while True:\n",
    "    # decrease the maxInt value by factor 10 \n",
    "    # as long as the OverflowError occurs.\n",
    "\n",
    "    try:\n",
    "        csv.field_size_limit(maxInt)\n",
    "        break\n",
    "    except OverflowError:\n",
    "        maxInt = int(maxInt/10)\n",
    "\n",
    "csv.field_size_limit(maxInt)"
   ]
  },
  {
   "cell_type": "code",
   "execution_count": 2,
   "id": "1e095437",
   "metadata": {},
   "outputs": [],
   "source": [
    "os.chdir('D:/hubmap segmentation challenge/')"
   ]
  },
  {
   "cell_type": "code",
   "execution_count": 3,
   "id": "c2d15b7a",
   "metadata": {},
   "outputs": [],
   "source": [
    "data = pd.read_csv('train.csv').values"
   ]
  },
  {
   "cell_type": "code",
   "execution_count": 4,
   "id": "9005e249",
   "metadata": {},
   "outputs": [],
   "source": [
    "train_data = data[:-int(len(data)/3)]\n",
    "val_data = data[-int(len(data)/3):]"
   ]
  },
  {
   "cell_type": "code",
   "execution_count": 5,
   "id": "a6c718cd",
   "metadata": {},
   "outputs": [],
   "source": [
    "organs = np.unique(data[:,1])\n",
    "sexes = np.unique(data[:,-1])"
   ]
  },
  {
   "cell_type": "code",
   "execution_count": 6,
   "id": "45ab0c90",
   "metadata": {},
   "outputs": [],
   "source": [
    "def rle_to_mask(rle_string, size):\n",
    "    rle = np.array(list(map(int, rle_string.split())))\n",
    "    label = np.zeros((size*size), dtype=np.uint8)\n",
    "    for start, end in zip(rle[::2], rle[1::2]):\n",
    "        label[start:start+end] = 1\n",
    "    return label.reshape(size, size).T"
   ]
  },
  {
   "cell_type": "code",
   "execution_count": 7,
   "id": "acb526eb",
   "metadata": {},
   "outputs": [],
   "source": [
    "def augment_data(image, mask, img_size):\n",
    "    \"\"\"augments the data by cropping and flipping randomly\"\"\"\n",
    "    flip = np.random.choice([True, False])\n",
    "    crop = np.random.choice([True, False])\n",
    "    image_dim = len(image)\n",
    "    \n",
    "    if crop:\n",
    "        x1, x2 = np.random.randint(0,image_dim),np.random.randint(0,image_dim)\n",
    "        left = np.min([x1,x2])\n",
    "        right = np.max([x1,x2])\n",
    "        if right - left >= img_size[0]:\n",
    "            image = image[left:right, left:right]\n",
    "            mask = mask[left:right, left:right]\n",
    "    \n",
    "    if flip:\n",
    "        axis_to_flip = random.choice([0,1])\n",
    "        image = np.flip(image, axis_to_flip)\n",
    "        mask = np.flip(mask, axis_to_flip)\n",
    "    \n",
    "    image = cv2.resize(image, img_size)\n",
    "    mask = cv2.resize(mask, img_size)\n",
    "    \n",
    "    return image, mask"
   ]
  },
  {
   "cell_type": "code",
   "execution_count": 8,
   "id": "9ed1bd0b",
   "metadata": {},
   "outputs": [],
   "source": [
    "def return_batch(data, batch_size, img_size, augment = True):\n",
    "    \"\"\"format of the data in the csv is id, organ, data_source, img_height, img_width, pixel_size, tissue_thickness, rle, age, sex\"\"\"\n",
    "    \n",
    "    images = []\n",
    "    masks = []\n",
    "    \n",
    "    indices = np.random.choice(range(len(data)), (batch_size))\n",
    "    \n",
    "    for i in range(0,len(indices)):\n",
    "        \n",
    "        image = (cv2.imread(('train_images/'+str(data[indices[i]][0])+'.tiff')))\n",
    "        image = image/255\n",
    "        \n",
    "        rle_string = data[indices[i]][-3]\n",
    "        img_height = data[indices[i]][3]\n",
    "        \n",
    "        mask = rle_to_mask(rle_string, img_height)\n",
    "        \n",
    "        if augment:\n",
    "            image, mask = augment_data(image, mask, img_size)\n",
    "        else:\n",
    "            image = cv2.resize(image, (img_size))\n",
    "            mask = cv2.resize(mask, (img_size))\n",
    "        \n",
    "        \n",
    "        masks.append(mask)\n",
    "        images.append(image)\n",
    "    \n",
    "    return images, masks\n",
    "    \n",
    "    \n",
    "        \n",
    "    "
   ]
  },
  {
   "cell_type": "code",
   "execution_count": 9,
   "id": "8ee175a0",
   "metadata": {},
   "outputs": [],
   "source": [
    "class KSAC_layer(tf.keras.layers.Layer):\n",
    "    def __init__(self, input_shape, filters, dilation_rates=[6, 12, 18], batchnorm=True):\n",
    "        super().__init__()\n",
    "        self.dilation_rates = dilation_rates\n",
    "        self.batchnorms = []\n",
    "        self.filters = filters\n",
    "        if batchnorm:\n",
    "            self.batchnorms = [tf.keras.layers.BatchNormalization() for _ in dilation_rates]\n",
    "        self.kernel_initializer = tf.keras.initializers.GlorotUniform()\n",
    "        self.kernel_shape = (3, 3, input_shape[-1], filters)\n",
    "        self.kernel = tf.Variable(self.kernel_initializer(self.kernel_shape), trainable=True)\n",
    "\n",
    "    def call(self, x, training=False):\n",
    "        feature_maps = [tf.nn.conv2d(x, self.kernel, (1, 1), 'SAME', dilations=d) for d in self.dilation_rates]\n",
    "        if len(self.batchnorms) > 0:\n",
    "            for i in range(len(feature_maps)):\n",
    "                feature_maps[i] = self.batchnorms[i](feature_maps[i], training=training)\n",
    "        return sum(feature_maps)"
   ]
  },
  {
   "cell_type": "code",
   "execution_count": 10,
   "id": "ef05711c",
   "metadata": {},
   "outputs": [],
   "source": [
    "class KSAC_pooling(tf.keras.layers.Layer):\n",
    "    def __init__(self, filters, batchnorm = False):\n",
    "        super().__init__()\n",
    "        self.filters = filters\n",
    "        self.batchnorm = []\n",
    "        if batchnorm:\n",
    "            self.batchnorm = tf.keras.layers.BatchNormalization()\n",
    "        self.conv_layer = tf.keras.layers.Conv2D(filters, 1, (1,1))\n",
    "\n",
    "    def call(self, x):\n",
    "        x = tf.keras.layers.GlobalAveragePooling2D(keepdims=True)(x)\n",
    "        x = self.conv_layer(x)\n",
    "        if self.batchnorm != []:\n",
    "            x = self.batchnorm(x)\n",
    "        return tf.image.resize(images=x, size=x.shape[1:-1])"
   ]
  },
  {
   "cell_type": "code",
   "execution_count": 11,
   "id": "a3b7dded",
   "metadata": {},
   "outputs": [],
   "source": [
    "class KSAC_block(tf.keras.layers.Layer):\n",
    "    def __init__(self, filters, input_shape, dilation_rate=[6, 12, 18], batchnorm=True):\n",
    "        super().__init__()\n",
    "        self.conv1 = tf.keras.layers.Conv2D(filters, 1, (1, 1))\n",
    "        self.batchnorm = []\n",
    "        if batchnorm:\n",
    "            self.batchnorm = tf.keras.layers.BatchNormalization()\n",
    "\n",
    "\n",
    "        self.ksac_layer = KSAC_layer(input_shape, filters, dilation_rate, batchnorm)\n",
    "        self.ksac_pooling = KSAC_pooling(filters, batchnorm)\n",
    "        self.bias = tf.Variable(tf.zeros_initializer()((filters,)), trainable=True, name='bias')\n",
    "\n",
    "    def call(self, x):\n",
    "        y = self.conv1(x)\n",
    "        if self.batchnorm != []:\n",
    "            y = self.batchnorm(y)\n",
    "        return tf.nn.relu(y + self.ksac_layer(x) + self.ksac_pooling(x) + self.bias)"
   ]
  },
  {
   "cell_type": "code",
   "execution_count": 12,
   "id": "9cbe3465",
   "metadata": {},
   "outputs": [],
   "source": [
    "class DeepLabV3_Decoder(tf.keras.layers.Layer):\n",
    "    def __init__(self, filters, out_size, batchnorm=True):\n",
    "        super().__init__()\n",
    "        self.batchnorm = []\n",
    "        if batchnorm:\n",
    "            self.batchnorm = tf.keras.layers.BatchNormalization()\n",
    "        self.conv1 = tf.keras.layers.Conv2D(filters, 1, (1, 1))\n",
    "        self.conv2 = tf.keras.layers.Conv2D(1, 3, (1, 1), \"SAME\", activation='sigmoid')\n",
    "        self.out_size = out_size\n",
    "\n",
    "    def call(self, x1, x2):\n",
    "        x2 = self.conv1(x2)\n",
    "        x2 = self.batchnorm(x2)\n",
    "        x2 = tf.nn.relu(x2)\n",
    "        x2 = tf.image.resize(images=x2, size=x1.shape[1:-1])\n",
    "        x = tf.concat([x1, x2], axis=-1)\n",
    "        x = self.conv2(x)\n",
    "        x = tf.image.resize(images=x, size=self.out_size)\n",
    "        return x"
   ]
  },
  {
   "cell_type": "code",
   "execution_count": 13,
   "id": "e7810415",
   "metadata": {},
   "outputs": [],
   "source": [
    "class KSAC_network(tf.keras.Model):\n",
    "    def __init__(self, input_shape, filters, dilation_rate=[6,12,18], batchnorm=True):\n",
    "        super().__init__()\n",
    "        resnet_backbone = applications.resnet50.ResNet50(\n",
    "            include_top=False,\n",
    "            weights=None,\n",
    "            input_tensor=None,\n",
    "            input_shape=input_shape,\n",
    "            pooling=None,\n",
    "            classes=1000,\n",
    "        )\n",
    "        resnet_backbone = tf.keras.Model(inputs=resnet_backbone.inputs,\n",
    "                                         outputs=[resnet_backbone.get_layer('conv3_block4_out').output,\n",
    "                                                  resnet_backbone.get_layer('conv4_block6_out').output])\n",
    "        #print(resnet_backbone.summary())\n",
    "\n",
    "        x = tf.keras.Input(input_shape)\n",
    "        x1, x2 = resnet_backbone(x)\n",
    "        print(x.shape)\n",
    "        # print(x1.shape, x2.shape)\n",
    "        x2 = KSAC_block(filters, x2.shape, dilation_rate, batchnorm)(x2)\n",
    "        print(x.shape)\n",
    "        logits = DeepLabV3_Decoder(filters, input_shape[:-1])(x1,x2)\n",
    "        self.model = tf.keras.Model(inputs=x, outputs=logits)\n",
    "        self.loss_object = tf.keras.losses.BinaryCrossentropy(from_logits=True)\n",
    "\n",
    "    def compile(self, optimizer, *args, **kwargs):\n",
    "        self.focal_loss_metric = keras.metrics.Mean(name=\"focal_loss\")\n",
    "        self.accuracy_metric = keras.metrics.Mean(name='accuracy')\n",
    "        self.optimizer = optimizer\n",
    "        super(KSAC_network, self).compile(*args, **kwargs)\n",
    "\n",
    "    "
   ]
  },
  {
   "cell_type": "code",
   "execution_count": 14,
   "id": "2096676b",
   "metadata": {},
   "outputs": [
    {
     "name": "stdout",
     "output_type": "stream",
     "text": [
      "(None, 512, 512, 3)\n",
      "(None, 512, 512, 3)\n"
     ]
    }
   ],
   "source": [
    "ksac_network = KSAC_network((512,512,3), 128)\n",
    "optimizer = tf.optimizers.Adam(learning_rate=0.0001)\n",
    "loss_object = tf.keras.losses.BinaryCrossentropy(from_logits=False)"
   ]
  },
  {
   "cell_type": "code",
   "execution_count": null,
   "id": "e5973fe6",
   "metadata": {},
   "outputs": [],
   "source": []
  },
  {
   "cell_type": "code",
   "execution_count": 15,
   "id": "1069d412",
   "metadata": {},
   "outputs": [],
   "source": [
    "def dice_coef(y_true, y_pred, smooth=100):\n",
    "    y_true_f = K.flatten(y_true)\n",
    "    y_pred_f = K.flatten(y_pred)\n",
    "    intersection = K.sum(y_true_f * y_pred_f)\n",
    "    dice = (2 * intersection + smooth) / (K.sum(y_true_f) + K.sum(y_pred_f) + smooth)\n",
    "    return dice"
   ]
  },
  {
   "cell_type": "code",
   "execution_count": 16,
   "id": "be8fac62",
   "metadata": {},
   "outputs": [],
   "source": [
    "def train(batch_size=4, batches_per_epoch=1000, epochs=100):\n",
    "    for i in range(epochs+1):\n",
    "        running_loss = 0\n",
    "        running_val_loss = 0\n",
    "        pbar = tqdm(range(0, batches_per_epoch))\n",
    "        for j in pbar:\n",
    "            images, masks = return_batch(train_data, batch_size, (512,512))\n",
    "            images = np.array(images)\n",
    "            masks = np.expand_dims(np.array(masks),-1).astype(np.float32)\n",
    "            with tf.GradientTape() as tape:\n",
    "                logits = ksac_network.model(images, training=True)\n",
    "                logits = tf.cast(logits, \"float32\")\n",
    "                #loss = -(dice_coef(masks, logits))\n",
    "                #loss = tf.convert_to_tensor(loss)\n",
    "                loss = tf.math.reduce_mean(loss_object(masks, logits))\n",
    "            running_loss = running_loss * 0.99 + loss * 0.01\n",
    "            if j % 10 == 0:\n",
    "                val_images, val_masks = return_batch(val_data, batch_size,(512,512))\n",
    "                val_images = np.array(images)\n",
    "                val_masks = np.expand_dims(np.array(val_masks),-1).astype(np.float32)\n",
    "                val_logits = ksac_network.model(val_images, training=False)\n",
    "                val_logits = tf.cast(val_logits, \"float32\")\n",
    "                val_loss =  (dice_coef(val_masks, val_logits))\n",
    "                running_val_loss = running_val_loss * 0.99 + val_loss * 0.01\n",
    "                \n",
    "            pbar.set_description(\n",
    "                    f'Epoch={i}, Train_Loss={running_loss}, Val_Performance{running_val_loss}')\n",
    "            grads = tape.gradient(loss, ksac_network.model.trainable_variables)\n",
    "            optimizer.apply_gradients(zip(grads, ksac_network.model.trainable_variables))\n",
    "        print('saving model')\n",
    "        ksac_network.model.save_weights(\n",
    "            f'D:\\\\hubmap segmentation challenge\\\\models\\\\ksac_network_weights\\\\ksac_model_2_{i}.h5')"
   ]
  },
  {
   "cell_type": "code",
   "execution_count": 17,
   "id": "1a63fcd1",
   "metadata": {},
   "outputs": [
    {
     "name": "stderr",
     "output_type": "stream",
     "text": [
      "Epoch=0, Train_Loss=0.24767200648784637, Val_Performance0.08494309335947037: 100%|█| 1000/1000 [20:03<00:00,  1.20s/it]\n"
     ]
    },
    {
     "name": "stdout",
     "output_type": "stream",
     "text": [
      "saving model\n"
     ]
    },
    {
     "name": "stderr",
     "output_type": "stream",
     "text": [
      "Epoch=1, Train_Loss=0.22296305000782013, Val_Performance0.0792025551199913: 100%|██| 1000/1000 [15:45<00:00,  1.06it/s]\n"
     ]
    },
    {
     "name": "stdout",
     "output_type": "stream",
     "text": [
      "saving model\n"
     ]
    },
    {
     "name": "stderr",
     "output_type": "stream",
     "text": [
      "Epoch=2, Train_Loss=0.17915016412734985, Val_Performance0.07637900114059448: 100%|█| 1000/1000 [13:05<00:00,  1.27it/s]\n"
     ]
    },
    {
     "name": "stdout",
     "output_type": "stream",
     "text": [
      "saving model\n"
     ]
    },
    {
     "name": "stderr",
     "output_type": "stream",
     "text": [
      "Epoch=3, Train_Loss=0.14864371716976166, Val_Performance0.077080138027668: 100%|███| 1000/1000 [13:52<00:00,  1.20it/s]\n"
     ]
    },
    {
     "name": "stdout",
     "output_type": "stream",
     "text": [
      "saving model\n"
     ]
    },
    {
     "name": "stderr",
     "output_type": "stream",
     "text": [
      "Epoch=4, Train_Loss=0.15269163250923157, Val_Performance0.07880136370658875: 100%|█| 1000/1000 [14:02<00:00,  1.19it/s]\n"
     ]
    },
    {
     "name": "stdout",
     "output_type": "stream",
     "text": [
      "saving model\n"
     ]
    },
    {
     "name": "stderr",
     "output_type": "stream",
     "text": [
      "Epoch=5, Train_Loss=0.1459021419286728, Val_Performance0.06759623438119888: 100%|██| 1000/1000 [14:02<00:00,  1.19it/s]\n"
     ]
    },
    {
     "name": "stdout",
     "output_type": "stream",
     "text": [
      "saving model\n"
     ]
    },
    {
     "name": "stderr",
     "output_type": "stream",
     "text": [
      "Epoch=6, Train_Loss=0.12284236401319504, Val_Performance0.06533853709697723: 100%|█| 1000/1000 [14:10<00:00,  1.18it/s]\n"
     ]
    },
    {
     "name": "stdout",
     "output_type": "stream",
     "text": [
      "saving model\n"
     ]
    },
    {
     "name": "stderr",
     "output_type": "stream",
     "text": [
      "Epoch=7, Train_Loss=0.1245112344622612, Val_Performance0.0785825178027153: 100%|███| 1000/1000 [14:58<00:00,  1.11it/s]\n"
     ]
    },
    {
     "name": "stdout",
     "output_type": "stream",
     "text": [
      "saving model\n"
     ]
    },
    {
     "name": "stderr",
     "output_type": "stream",
     "text": [
      "Epoch=8, Train_Loss=0.12009667605161667, Val_Performance0.07619285583496094: 100%|█| 1000/1000 [14:07<00:00,  1.18it/s]\n"
     ]
    },
    {
     "name": "stdout",
     "output_type": "stream",
     "text": [
      "saving model\n"
     ]
    },
    {
     "name": "stderr",
     "output_type": "stream",
     "text": [
      "Epoch=9, Train_Loss=0.11807513982057571, Val_Performance0.07417678833007812: 100%|█| 1000/1000 [14:54<00:00,  1.12it/s]\n"
     ]
    },
    {
     "name": "stdout",
     "output_type": "stream",
     "text": [
      "saving model\n"
     ]
    },
    {
     "name": "stderr",
     "output_type": "stream",
     "text": [
      "Epoch=10, Train_Loss=0.09453565627336502, Val_Performance0.07702391594648361: 100%|█| 1000/1000 [14:13<00:00,  1.17it/s\n"
     ]
    },
    {
     "name": "stdout",
     "output_type": "stream",
     "text": [
      "saving model\n"
     ]
    },
    {
     "name": "stderr",
     "output_type": "stream",
     "text": [
      "Epoch=11, Train_Loss=0.09195222705602646, Val_Performance0.07481716573238373: 100%|█| 1000/1000 [15:18<00:00,  1.09it/s\n"
     ]
    },
    {
     "name": "stdout",
     "output_type": "stream",
     "text": [
      "saving model\n"
     ]
    },
    {
     "name": "stderr",
     "output_type": "stream",
     "text": [
      "Epoch=12, Train_Loss=0.09194615483283997, Val_Performance0.0739581510424614: 100%|█| 1000/1000 [15:24<00:00,  1.08it/s]\n"
     ]
    },
    {
     "name": "stdout",
     "output_type": "stream",
     "text": [
      "saving model\n"
     ]
    },
    {
     "name": "stderr",
     "output_type": "stream",
     "text": [
      "Epoch=13, Train_Loss=0.09202156960964203, Val_Performance0.07487659156322479: 100%|█| 1000/1000 [15:21<00:00,  1.09it/s\n"
     ]
    },
    {
     "name": "stdout",
     "output_type": "stream",
     "text": [
      "saving model\n"
     ]
    },
    {
     "name": "stderr",
     "output_type": "stream",
     "text": [
      "Epoch=14, Train_Loss=0.10145507752895355, Val_Performance0.07693522423505783: 100%|█| 1000/1000 [15:37<00:00,  1.07it/s\n"
     ]
    },
    {
     "name": "stdout",
     "output_type": "stream",
     "text": [
      "saving model\n"
     ]
    },
    {
     "name": "stderr",
     "output_type": "stream",
     "text": [
      "Epoch=15, Train_Loss=0.08017955720424652, Val_Performance0.08405252546072006: 100%|█| 1000/1000 [15:26<00:00,  1.08it/s\n"
     ]
    },
    {
     "name": "stdout",
     "output_type": "stream",
     "text": [
      "saving model\n"
     ]
    },
    {
     "name": "stderr",
     "output_type": "stream",
     "text": [
      "Epoch=16, Train_Loss=0.08570634573698044, Val_Performance0.06926163285970688: 100%|█| 1000/1000 [15:24<00:00,  1.08it/s\n"
     ]
    },
    {
     "name": "stdout",
     "output_type": "stream",
     "text": [
      "saving model\n"
     ]
    },
    {
     "name": "stderr",
     "output_type": "stream",
     "text": [
      "Epoch=17, Train_Loss=0.09659517556428909, Val_Performance0.06933128833770752: 100%|█| 1000/1000 [15:56<00:00,  1.05it/s\n"
     ]
    },
    {
     "name": "stdout",
     "output_type": "stream",
     "text": [
      "saving model\n"
     ]
    },
    {
     "name": "stderr",
     "output_type": "stream",
     "text": [
      "Epoch=18, Train_Loss=0.08483629673719406, Val_Performance0.07385525852441788: 100%|█| 1000/1000 [15:54<00:00,  1.05it/s\n"
     ]
    },
    {
     "name": "stdout",
     "output_type": "stream",
     "text": [
      "saving model\n"
     ]
    },
    {
     "name": "stderr",
     "output_type": "stream",
     "text": [
      "Epoch=19, Train_Loss=0.08518204092979431, Val_Performance0.08058257400989532: 100%|█| 1000/1000 [16:17<00:00,  1.02it/s\n"
     ]
    },
    {
     "name": "stdout",
     "output_type": "stream",
     "text": [
      "saving model\n"
     ]
    },
    {
     "name": "stderr",
     "output_type": "stream",
     "text": [
      "Epoch=20, Train_Loss=0.08302087336778641, Val_Performance0.08032151311635971: 100%|█| 1000/1000 [16:10<00:00,  1.03it/s\n"
     ]
    },
    {
     "name": "stdout",
     "output_type": "stream",
     "text": [
      "saving model\n"
     ]
    },
    {
     "name": "stderr",
     "output_type": "stream",
     "text": [
      "Epoch=21, Train_Loss=0.06932193040847778, Val_Performance0.07638775557279587: 100%|█| 1000/1000 [16:06<00:00,  1.04it/s\n"
     ]
    },
    {
     "name": "stdout",
     "output_type": "stream",
     "text": [
      "saving model\n"
     ]
    },
    {
     "name": "stderr",
     "output_type": "stream",
     "text": [
      "Epoch=22, Train_Loss=0.07672156393527985, Val_Performance0.07896431535482407: 100%|█| 1000/1000 [16:27<00:00,  1.01it/s\n"
     ]
    },
    {
     "name": "stdout",
     "output_type": "stream",
     "text": [
      "saving model\n"
     ]
    },
    {
     "name": "stderr",
     "output_type": "stream",
     "text": [
      "Epoch=23, Train_Loss=0.07492232322692871, Val_Performance0.07266117632389069: 100%|█| 1000/1000 [16:37<00:00,  1.00it/s\n"
     ]
    },
    {
     "name": "stdout",
     "output_type": "stream",
     "text": [
      "saving model\n"
     ]
    },
    {
     "name": "stderr",
     "output_type": "stream",
     "text": [
      "Epoch=24, Train_Loss=0.08141005784273148, Val_Performance0.07177431881427765: 100%|█| 1000/1000 [18:19<00:00,  1.10s/it\n"
     ]
    },
    {
     "name": "stdout",
     "output_type": "stream",
     "text": [
      "saving model\n"
     ]
    },
    {
     "name": "stderr",
     "output_type": "stream",
     "text": [
      "Epoch=25, Train_Loss=0.07354399561882019, Val_Performance0.07913646101951599: 100%|█| 1000/1000 [16:51<00:00,  1.01s/it\n"
     ]
    },
    {
     "name": "stdout",
     "output_type": "stream",
     "text": [
      "saving model\n"
     ]
    },
    {
     "name": "stderr",
     "output_type": "stream",
     "text": [
      "Epoch=26, Train_Loss=0.07341277599334717, Val_Performance0.07059777528047562: 100%|█| 1000/1000 [16:03<00:00,  1.04it/s\n"
     ]
    },
    {
     "name": "stdout",
     "output_type": "stream",
     "text": [
      "saving model\n"
     ]
    },
    {
     "name": "stderr",
     "output_type": "stream",
     "text": [
      "Epoch=27, Train_Loss=0.0675165057182312, Val_Performance0.08294978737831116: 100%|█| 1000/1000 [16:04<00:00,  1.04it/s]\n"
     ]
    },
    {
     "name": "stdout",
     "output_type": "stream",
     "text": [
      "saving model\n"
     ]
    },
    {
     "name": "stderr",
     "output_type": "stream",
     "text": [
      "Epoch=28, Train_Loss=0.07324063777923584, Val_Performance0.07202034443616867: 100%|█| 1000/1000 [16:13<00:00,  1.03it/s\n"
     ]
    },
    {
     "name": "stdout",
     "output_type": "stream",
     "text": [
      "saving model\n"
     ]
    },
    {
     "name": "stderr",
     "output_type": "stream",
     "text": [
      "Epoch=29, Train_Loss=0.07403182238340378, Val_Performance0.07919090986251831: 100%|█| 1000/1000 [16:51<00:00,  1.01s/it\n"
     ]
    },
    {
     "name": "stdout",
     "output_type": "stream",
     "text": [
      "saving model\n"
     ]
    },
    {
     "name": "stderr",
     "output_type": "stream",
     "text": [
      "Epoch=30, Train_Loss=0.08446797728538513, Val_Performance0.08912164717912674: 100%|█| 1000/1000 [16:17<00:00,  1.02it/s\n"
     ]
    },
    {
     "name": "stdout",
     "output_type": "stream",
     "text": [
      "saving model\n"
     ]
    },
    {
     "name": "stderr",
     "output_type": "stream",
     "text": [
      "Epoch=31, Train_Loss=0.07423169165849686, Val_Performance0.07589128613471985: 100%|█| 1000/1000 [16:33<00:00,  1.01it/s\n"
     ]
    },
    {
     "name": "stdout",
     "output_type": "stream",
     "text": [
      "saving model\n"
     ]
    },
    {
     "name": "stderr",
     "output_type": "stream",
     "text": [
      "Epoch=32, Train_Loss=0.07014288008213043, Val_Performance0.08367079496383667: 100%|█| 1000/1000 [16:48<00:00,  1.01s/it\n"
     ]
    },
    {
     "name": "stdout",
     "output_type": "stream",
     "text": [
      "saving model\n"
     ]
    },
    {
     "name": "stderr",
     "output_type": "stream",
     "text": [
      "Epoch=33, Train_Loss=0.05924684926867485, Val_Performance0.08501175791025162: 100%|█| 1000/1000 [16:55<00:00,  1.02s/it\n"
     ]
    },
    {
     "name": "stdout",
     "output_type": "stream",
     "text": [
      "saving model\n"
     ]
    },
    {
     "name": "stderr",
     "output_type": "stream",
     "text": [
      "Epoch=34, Train_Loss=0.057160742580890656, Val_Performance0.07659802585840225: 100%|█| 1000/1000 [16:29<00:00,  1.01it/\n"
     ]
    },
    {
     "name": "stdout",
     "output_type": "stream",
     "text": [
      "saving model\n"
     ]
    },
    {
     "name": "stderr",
     "output_type": "stream",
     "text": [
      "Epoch=35, Train_Loss=0.07103250175714493, Val_Performance0.0753270611166954: 100%|█| 1000/1000 [16:17<00:00,  1.02it/s]\n"
     ]
    },
    {
     "name": "stdout",
     "output_type": "stream",
     "text": [
      "saving model\n"
     ]
    },
    {
     "name": "stderr",
     "output_type": "stream",
     "text": [
      "Epoch=36, Train_Loss=0.06527093052864075, Val_Performance0.07782123237848282: 100%|█| 1000/1000 [16:31<00:00,  1.01it/s\n"
     ]
    },
    {
     "name": "stdout",
     "output_type": "stream",
     "text": [
      "saving model\n"
     ]
    },
    {
     "name": "stderr",
     "output_type": "stream",
     "text": [
      "Epoch=37, Train_Loss=0.07259982824325562, Val_Performance0.07617462426424026: 100%|█| 1000/1000 [16:27<00:00,  1.01it/s\n"
     ]
    },
    {
     "name": "stdout",
     "output_type": "stream",
     "text": [
      "saving model\n"
     ]
    },
    {
     "name": "stderr",
     "output_type": "stream",
     "text": [
      "Epoch=38, Train_Loss=0.05842193588614464, Val_Performance0.08596788346767426: 100%|█| 1000/1000 [16:40<00:00,  1.00s/it\n"
     ]
    },
    {
     "name": "stdout",
     "output_type": "stream",
     "text": [
      "saving model\n"
     ]
    },
    {
     "name": "stderr",
     "output_type": "stream",
     "text": [
      "Epoch=39, Train_Loss=0.05699386075139046, Val_Performance0.0780707374215126: 100%|█| 1000/1000 [16:21<00:00,  1.02it/s]\n"
     ]
    },
    {
     "name": "stdout",
     "output_type": "stream",
     "text": [
      "saving model\n"
     ]
    },
    {
     "name": "stderr",
     "output_type": "stream",
     "text": [
      "Epoch=40, Train_Loss=0.060462016612291336, Val_Performance0.07553984224796295: 100%|█| 1000/1000 [16:28<00:00,  1.01it/\n"
     ]
    },
    {
     "name": "stdout",
     "output_type": "stream",
     "text": [
      "saving model\n"
     ]
    },
    {
     "name": "stderr",
     "output_type": "stream",
     "text": [
      "Epoch=41, Train_Loss=0.06522291153669357, Val_Performance0.07692743092775345: 100%|█| 1000/1000 [16:25<00:00,  1.01it/s\n"
     ]
    },
    {
     "name": "stdout",
     "output_type": "stream",
     "text": [
      "saving model\n"
     ]
    },
    {
     "name": "stderr",
     "output_type": "stream",
     "text": [
      "Epoch=42, Train_Loss=0.0652201771736145, Val_Performance0.08667097985744476: 100%|█| 1000/1000 [16:25<00:00,  1.01it/s]\n"
     ]
    },
    {
     "name": "stdout",
     "output_type": "stream",
     "text": [
      "saving model\n"
     ]
    },
    {
     "name": "stderr",
     "output_type": "stream",
     "text": [
      "Epoch=43, Train_Loss=0.060007188469171524, Val_Performance0.07492215931415558: 100%|█| 1000/1000 [16:30<00:00,  1.01it/\n"
     ]
    },
    {
     "name": "stdout",
     "output_type": "stream",
     "text": [
      "saving model\n"
     ]
    },
    {
     "name": "stderr",
     "output_type": "stream",
     "text": [
      "Epoch=44, Train_Loss=0.06538388133049011, Val_Performance0.07157601416110992: 100%|█| 1000/1000 [16:32<00:00,  1.01it/s\n"
     ]
    },
    {
     "name": "stdout",
     "output_type": "stream",
     "text": [
      "saving model\n"
     ]
    },
    {
     "name": "stderr",
     "output_type": "stream",
     "text": [
      "Epoch=45, Train_Loss=0.0638013482093811, Val_Performance0.08177017420530319: 100%|█| 1000/1000 [16:23<00:00,  1.02it/s]\n"
     ]
    },
    {
     "name": "stdout",
     "output_type": "stream",
     "text": [
      "saving model\n"
     ]
    },
    {
     "name": "stderr",
     "output_type": "stream",
     "text": [
      "Epoch=46, Train_Loss=0.06610056757926941, Val_Performance0.07416528463363647: 100%|█| 1000/1000 [16:26<00:00,  1.01it/s\n"
     ]
    },
    {
     "name": "stdout",
     "output_type": "stream",
     "text": [
      "saving model\n"
     ]
    },
    {
     "name": "stderr",
     "output_type": "stream",
     "text": [
      "Epoch=47, Train_Loss=0.07350782305002213, Val_Performance0.07092219591140747: 100%|█| 1000/1000 [16:27<00:00,  1.01it/s\n"
     ]
    },
    {
     "name": "stdout",
     "output_type": "stream",
     "text": [
      "saving model\n"
     ]
    },
    {
     "name": "stderr",
     "output_type": "stream",
     "text": [
      "Epoch=48, Train_Loss=0.06562197953462601, Val_Performance0.08425295352935791: 100%|█| 1000/1000 [16:27<00:00,  1.01it/s\n"
     ]
    },
    {
     "name": "stdout",
     "output_type": "stream",
     "text": [
      "saving model\n"
     ]
    },
    {
     "name": "stderr",
     "output_type": "stream",
     "text": [
      "Epoch=49, Train_Loss=0.059117384254932404, Val_Performance0.08892183005809784: 100%|█| 1000/1000 [16:39<00:00,  1.00it/\n"
     ]
    },
    {
     "name": "stdout",
     "output_type": "stream",
     "text": [
      "saving model\n"
     ]
    },
    {
     "name": "stderr",
     "output_type": "stream",
     "text": [
      "Epoch=50, Train_Loss=0.06005728989839554, Val_Performance0.08834882080554962: 100%|█| 1000/1000 [16:40<00:00,  1.00s/it\n"
     ]
    },
    {
     "name": "stdout",
     "output_type": "stream",
     "text": [
      "saving model\n"
     ]
    },
    {
     "name": "stderr",
     "output_type": "stream",
     "text": [
      "Epoch=51, Train_Loss=0.07979591935873032, Val_Performance0.06892494857311249: 100%|█| 1000/1000 [16:40<00:00,  1.00s/it\n"
     ]
    },
    {
     "name": "stdout",
     "output_type": "stream",
     "text": [
      "saving model\n"
     ]
    },
    {
     "name": "stderr",
     "output_type": "stream",
     "text": [
      "Epoch=52, Train_Loss=0.05781921371817589, Val_Performance0.08361998200416565: 100%|█| 1000/1000 [16:42<00:00,  1.00s/it\n"
     ]
    },
    {
     "name": "stdout",
     "output_type": "stream",
     "text": [
      "saving model\n"
     ]
    },
    {
     "name": "stderr",
     "output_type": "stream",
     "text": [
      "Epoch=53, Train_Loss=0.054977040737867355, Val_Performance0.07729464024305344: 100%|█| 1000/1000 [16:38<00:00,  1.00it/\n"
     ]
    },
    {
     "name": "stdout",
     "output_type": "stream",
     "text": [
      "saving model\n"
     ]
    },
    {
     "name": "stderr",
     "output_type": "stream",
     "text": [
      "Epoch=54, Train_Loss=0.05659325420856476, Val_Performance0.08589325100183487: 100%|█| 1000/1000 [16:44<00:00,  1.00s/it\n"
     ]
    },
    {
     "name": "stdout",
     "output_type": "stream",
     "text": [
      "saving model\n"
     ]
    },
    {
     "name": "stderr",
     "output_type": "stream",
     "text": [
      "Epoch=55, Train_Loss=0.060761645436286926, Val_Performance0.07066099345684052: 100%|█| 1000/1000 [16:48<00:00,  1.01s/i\n"
     ]
    },
    {
     "name": "stdout",
     "output_type": "stream",
     "text": [
      "saving model\n"
     ]
    },
    {
     "name": "stderr",
     "output_type": "stream",
     "text": [
      "Epoch=56, Train_Loss=0.061688173562288284, Val_Performance0.09007316827774048: 100%|█| 1000/1000 [16:48<00:00,  1.01s/i\n"
     ]
    },
    {
     "name": "stdout",
     "output_type": "stream",
     "text": [
      "saving model\n"
     ]
    },
    {
     "name": "stderr",
     "output_type": "stream",
     "text": [
      "Epoch=57, Train_Loss=0.05690067633986473, Val_Performance0.08324107527732849: 100%|█| 1000/1000 [16:48<00:00,  1.01s/it\n"
     ]
    },
    {
     "name": "stdout",
     "output_type": "stream",
     "text": [
      "saving model\n"
     ]
    },
    {
     "name": "stderr",
     "output_type": "stream",
     "text": [
      "Epoch=58, Train_Loss=0.06783165037631989, Val_Performance0.08072619140148163: 100%|█| 1000/1000 [16:43<00:00,  1.00s/it\n"
     ]
    },
    {
     "name": "stdout",
     "output_type": "stream",
     "text": [
      "saving model\n"
     ]
    },
    {
     "name": "stderr",
     "output_type": "stream",
     "text": [
      "Epoch=59, Train_Loss=0.06029464676976204, Val_Performance0.08319960534572601: 100%|█| 1000/1000 [16:50<00:00,  1.01s/it\n"
     ]
    },
    {
     "name": "stdout",
     "output_type": "stream",
     "text": [
      "saving model\n"
     ]
    },
    {
     "name": "stderr",
     "output_type": "stream",
     "text": [
      "Epoch=60, Train_Loss=0.05536973476409912, Val_Performance0.08677537739276886: 100%|█| 1000/1000 [16:56<00:00,  1.02s/it\n"
     ]
    },
    {
     "name": "stdout",
     "output_type": "stream",
     "text": [
      "saving model\n"
     ]
    },
    {
     "name": "stderr",
     "output_type": "stream",
     "text": [
      "Epoch=61, Train_Loss=0.05222398415207863, Val_Performance0.0801212415099144: 100%|█| 1000/1000 [16:57<00:00,  1.02s/it]\n"
     ]
    },
    {
     "name": "stdout",
     "output_type": "stream",
     "text": [
      "saving model\n"
     ]
    },
    {
     "name": "stderr",
     "output_type": "stream",
     "text": [
      "Epoch=62, Train_Loss=0.06809089332818985, Val_Performance0.07622803747653961: 100%|█| 1000/1000 [16:51<00:00,  1.01s/it\n"
     ]
    },
    {
     "name": "stdout",
     "output_type": "stream",
     "text": [
      "saving model\n"
     ]
    },
    {
     "name": "stderr",
     "output_type": "stream",
     "text": [
      "Epoch=63, Train_Loss=0.06277931481599808, Val_Performance0.07764542102813721: 100%|█| 1000/1000 [17:03<00:00,  1.02s/it\n"
     ]
    },
    {
     "name": "stdout",
     "output_type": "stream",
     "text": [
      "saving model\n"
     ]
    },
    {
     "name": "stderr",
     "output_type": "stream",
     "text": [
      "Epoch=64, Train_Loss=0.056230317801237106, Val_Performance0.07512868940830231: 100%|█| 1000/1000 [16:50<00:00,  1.01s/i\n"
     ]
    },
    {
     "name": "stdout",
     "output_type": "stream",
     "text": [
      "saving model\n"
     ]
    },
    {
     "name": "stderr",
     "output_type": "stream",
     "text": [
      "Epoch=65, Train_Loss=0.054890867322683334, Val_Performance0.08350400626659393: 100%|█| 1000/1000 [16:59<00:00,  1.02s/i\n"
     ]
    },
    {
     "name": "stdout",
     "output_type": "stream",
     "text": [
      "saving model\n"
     ]
    },
    {
     "name": "stderr",
     "output_type": "stream",
     "text": [
      "Epoch=66, Train_Loss=0.0617799274623394, Val_Performance0.08384118974208832: 100%|█| 1000/1000 [16:54<00:00,  1.01s/it]\n"
     ]
    },
    {
     "name": "stdout",
     "output_type": "stream",
     "text": [
      "saving model\n"
     ]
    },
    {
     "name": "stderr",
     "output_type": "stream",
     "text": [
      "Epoch=67, Train_Loss=0.0568484291434288, Val_Performance0.07719382643699646: 100%|█| 1000/1000 [16:51<00:00,  1.01s/it]\n"
     ]
    },
    {
     "name": "stdout",
     "output_type": "stream",
     "text": [
      "saving model\n"
     ]
    },
    {
     "name": "stderr",
     "output_type": "stream",
     "text": [
      "Epoch=68, Train_Loss=0.04928794130682945, Val_Performance0.08664673566818237: 100%|█| 1000/1000 [18:07<00:00,  1.09s/it\n"
     ]
    },
    {
     "name": "stdout",
     "output_type": "stream",
     "text": [
      "saving model\n"
     ]
    },
    {
     "name": "stderr",
     "output_type": "stream",
     "text": [
      "Epoch=69, Train_Loss=0.052003953605890274, Val_Performance0.07214726507663727: 100%|█| 1000/1000 [17:05<00:00,  1.03s/i\n"
     ]
    },
    {
     "name": "stdout",
     "output_type": "stream",
     "text": [
      "saving model\n"
     ]
    },
    {
     "name": "stderr",
     "output_type": "stream",
     "text": [
      "Epoch=70, Train_Loss=0.050655536353588104, Val_Performance0.08857712149620056: 100%|█| 1000/1000 [17:07<00:00,  1.03s/i\n"
     ]
    },
    {
     "name": "stdout",
     "output_type": "stream",
     "text": [
      "saving model\n"
     ]
    },
    {
     "name": "stderr",
     "output_type": "stream",
     "text": [
      "Epoch=71, Train_Loss=0.05392231047153473, Val_Performance0.08412174880504608: 100%|█| 1000/1000 [17:04<00:00,  1.02s/it\n"
     ]
    },
    {
     "name": "stdout",
     "output_type": "stream",
     "text": [
      "saving model\n"
     ]
    },
    {
     "name": "stderr",
     "output_type": "stream",
     "text": [
      "Epoch=72, Train_Loss=0.06001025065779686, Val_Performance0.08556441962718964: 100%|█| 1000/1000 [17:02<00:00,  1.02s/it\n"
     ]
    },
    {
     "name": "stdout",
     "output_type": "stream",
     "text": [
      "saving model\n"
     ]
    },
    {
     "name": "stderr",
     "output_type": "stream",
     "text": [
      "Epoch=73, Train_Loss=0.05456786975264549, Val_Performance0.08650386333465576: 100%|█| 1000/1000 [16:59<00:00,  1.02s/it\n"
     ]
    },
    {
     "name": "stdout",
     "output_type": "stream",
     "text": [
      "saving model\n"
     ]
    },
    {
     "name": "stderr",
     "output_type": "stream",
     "text": [
      "Epoch=74, Train_Loss=0.04993842542171478, Val_Performance0.0872083231806755: 100%|█| 1000/1000 [17:15<00:00,  1.04s/it]\n"
     ]
    },
    {
     "name": "stdout",
     "output_type": "stream",
     "text": [
      "saving model\n"
     ]
    },
    {
     "name": "stderr",
     "output_type": "stream",
     "text": [
      "Epoch=75, Train_Loss=0.06214189901947975, Val_Performance0.08241016417741776: 100%|█| 1000/1000 [17:05<00:00,  1.03s/it\n"
     ]
    },
    {
     "name": "stdout",
     "output_type": "stream",
     "text": [
      "saving model\n"
     ]
    },
    {
     "name": "stderr",
     "output_type": "stream",
     "text": [
      "Epoch=76, Train_Loss=0.05231160297989845, Val_Performance0.0821337103843689: 100%|█| 1000/1000 [17:10<00:00,  1.03s/it]\n"
     ]
    },
    {
     "name": "stdout",
     "output_type": "stream",
     "text": [
      "saving model\n"
     ]
    },
    {
     "name": "stderr",
     "output_type": "stream",
     "text": [
      "Epoch=77, Train_Loss=0.05148211494088173, Val_Performance0.08025333285331726: 100%|█| 1000/1000 [16:59<00:00,  1.02s/it\n"
     ]
    },
    {
     "name": "stdout",
     "output_type": "stream",
     "text": [
      "saving model\n"
     ]
    },
    {
     "name": "stderr",
     "output_type": "stream",
     "text": [
      "Epoch=78, Train_Loss=0.052398890256881714, Val_Performance0.07690534740686417: 100%|█| 1000/1000 [17:06<00:00,  1.03s/i\n"
     ]
    },
    {
     "name": "stdout",
     "output_type": "stream",
     "text": [
      "saving model\n"
     ]
    },
    {
     "name": "stderr",
     "output_type": "stream",
     "text": [
      "Epoch=79, Train_Loss=0.059448543936014175, Val_Performance0.08591295033693314: 100%|█| 1000/1000 [17:24<00:00,  1.04s/i\n"
     ]
    },
    {
     "name": "stdout",
     "output_type": "stream",
     "text": [
      "saving model\n"
     ]
    },
    {
     "name": "stderr",
     "output_type": "stream",
     "text": [
      "Epoch=80, Train_Loss=0.05047725886106491, Val_Performance0.07884044200181961: 100%|█| 1000/1000 [17:21<00:00,  1.04s/it\n"
     ]
    },
    {
     "name": "stdout",
     "output_type": "stream",
     "text": [
      "saving model\n"
     ]
    },
    {
     "name": "stderr",
     "output_type": "stream",
     "text": [
      "Epoch=81, Train_Loss=0.05485996976494789, Val_Performance0.07241673022508621: 100%|█| 1000/1000 [17:25<00:00,  1.05s/it\n"
     ]
    },
    {
     "name": "stdout",
     "output_type": "stream",
     "text": [
      "saving model\n"
     ]
    },
    {
     "name": "stderr",
     "output_type": "stream",
     "text": [
      "Epoch=82, Train_Loss=0.05778759345412254, Val_Performance0.07243191450834274: 100%|█| 1000/1000 [17:10<00:00,  1.03s/it\n"
     ]
    },
    {
     "name": "stdout",
     "output_type": "stream",
     "text": [
      "saving model\n"
     ]
    },
    {
     "name": "stderr",
     "output_type": "stream",
     "text": [
      "Epoch=83, Train_Loss=0.04755312576889992, Val_Performance0.07379049807786942: 100%|█| 1000/1000 [17:15<00:00,  1.04s/it\n"
     ]
    },
    {
     "name": "stdout",
     "output_type": "stream",
     "text": [
      "saving model\n"
     ]
    },
    {
     "name": "stderr",
     "output_type": "stream",
     "text": [
      "Epoch=84, Train_Loss=0.053281623870134354, Val_Performance0.07803946733474731: 100%|█| 1000/1000 [17:10<00:00,  1.03s/i\n"
     ]
    },
    {
     "name": "stdout",
     "output_type": "stream",
     "text": [
      "saving model\n"
     ]
    },
    {
     "name": "stderr",
     "output_type": "stream",
     "text": [
      "Epoch=85, Train_Loss=0.049127086997032166, Val_Performance0.0862407386302948: 100%|█| 1000/1000 [17:09<00:00,  1.03s/it\n"
     ]
    },
    {
     "name": "stdout",
     "output_type": "stream",
     "text": [
      "saving model\n"
     ]
    },
    {
     "name": "stderr",
     "output_type": "stream",
     "text": [
      "Epoch=86, Train_Loss=0.04973467439413071, Val_Performance0.07065574824810028: 100%|█| 1000/1000 [17:23<00:00,  1.04s/it\n"
     ]
    },
    {
     "name": "stdout",
     "output_type": "stream",
     "text": [
      "saving model\n"
     ]
    },
    {
     "name": "stderr",
     "output_type": "stream",
     "text": [
      "Epoch=87, Train_Loss=0.05760993808507919, Val_Performance0.08498088270425797: 100%|█| 1000/1000 [17:58<00:00,  1.08s/it\n"
     ]
    },
    {
     "name": "stdout",
     "output_type": "stream",
     "text": [
      "saving model\n"
     ]
    },
    {
     "name": "stderr",
     "output_type": "stream",
     "text": [
      "Epoch=88, Train_Loss=0.04530519247055054, Val_Performance0.08581225574016571: 100%|█| 1000/1000 [17:40<00:00,  1.06s/it\n"
     ]
    },
    {
     "name": "stdout",
     "output_type": "stream",
     "text": [
      "saving model\n"
     ]
    },
    {
     "name": "stderr",
     "output_type": "stream",
     "text": [
      "Epoch=89, Train_Loss=0.05057036504149437, Val_Performance0.07751157879829407: 100%|█| 1000/1000 [16:55<00:00,  1.02s/it\n"
     ]
    },
    {
     "name": "stdout",
     "output_type": "stream",
     "text": [
      "saving model\n"
     ]
    },
    {
     "name": "stderr",
     "output_type": "stream",
     "text": [
      "Epoch=90, Train_Loss=0.051002856343984604, Val_Performance0.076894111931324: 100%|█| 1000/1000 [17:28<00:00,  1.05s/it]\n"
     ]
    },
    {
     "name": "stdout",
     "output_type": "stream",
     "text": [
      "saving model\n"
     ]
    },
    {
     "name": "stderr",
     "output_type": "stream",
     "text": [
      "Epoch=91, Train_Loss=0.04971003904938698, Val_Performance0.06199025735259056: 100%|█| 1000/1000 [17:24<00:00,  1.04s/it\n"
     ]
    },
    {
     "name": "stdout",
     "output_type": "stream",
     "text": [
      "saving model\n"
     ]
    },
    {
     "name": "stderr",
     "output_type": "stream",
     "text": [
      "Epoch=92, Train_Loss=0.04257727786898613, Val_Performance0.08043476194143295: 100%|█| 1000/1000 [17:32<00:00,  1.05s/it\n"
     ]
    },
    {
     "name": "stdout",
     "output_type": "stream",
     "text": [
      "saving model\n"
     ]
    },
    {
     "name": "stderr",
     "output_type": "stream",
     "text": [
      "Epoch=93, Train_Loss=0.050045255571603775, Val_Performance0.07304617762565613: 100%|█| 1000/1000 [17:18<00:00,  1.04s/i\n"
     ]
    },
    {
     "name": "stdout",
     "output_type": "stream",
     "text": [
      "saving model\n"
     ]
    },
    {
     "name": "stderr",
     "output_type": "stream",
     "text": [
      "Epoch=94, Train_Loss=0.05886949598789215, Val_Performance0.08345992863178253: 100%|█| 1000/1000 [17:02<00:00,  1.02s/it\n"
     ]
    },
    {
     "name": "stdout",
     "output_type": "stream",
     "text": [
      "saving model\n"
     ]
    },
    {
     "name": "stderr",
     "output_type": "stream",
     "text": [
      "Epoch=95, Train_Loss=0.04846150800585747, Val_Performance0.08360058069229126: 100%|█| 1000/1000 [17:24<00:00,  1.04s/it\n"
     ]
    },
    {
     "name": "stdout",
     "output_type": "stream",
     "text": [
      "saving model\n"
     ]
    },
    {
     "name": "stderr",
     "output_type": "stream",
     "text": [
      "Epoch=96, Train_Loss=0.05110771581530571, Val_Performance0.08251436799764633: 100%|█| 1000/1000 [17:18<00:00,  1.04s/it\n"
     ]
    },
    {
     "name": "stdout",
     "output_type": "stream",
     "text": [
      "saving model\n"
     ]
    },
    {
     "name": "stderr",
     "output_type": "stream",
     "text": [
      "Epoch=97, Train_Loss=0.05190082639455795, Val_Performance0.07219058275222778: 100%|█| 1000/1000 [17:28<00:00,  1.05s/it\n"
     ]
    },
    {
     "name": "stdout",
     "output_type": "stream",
     "text": [
      "saving model\n"
     ]
    },
    {
     "name": "stderr",
     "output_type": "stream",
     "text": [
      "Epoch=98, Train_Loss=0.04916444793343544, Val_Performance0.07718433439731598: 100%|█| 1000/1000 [17:13<00:00,  1.03s/it\n"
     ]
    },
    {
     "name": "stdout",
     "output_type": "stream",
     "text": [
      "saving model\n"
     ]
    },
    {
     "name": "stderr",
     "output_type": "stream",
     "text": [
      "Epoch=99, Train_Loss=0.0487019419670105, Val_Performance0.07814090698957443: 100%|█| 1000/1000 [17:29<00:00,  1.05s/it]\n"
     ]
    },
    {
     "name": "stdout",
     "output_type": "stream",
     "text": [
      "saving model\n"
     ]
    },
    {
     "name": "stderr",
     "output_type": "stream",
     "text": [
      "Epoch=100, Train_Loss=0.04621914401650429, Val_Performance0.08259222656488419: 100%|█| 1000/1000 [17:40<00:00,  1.06s/i\n"
     ]
    },
    {
     "name": "stdout",
     "output_type": "stream",
     "text": [
      "saving model\n"
     ]
    }
   ],
   "source": [
    "train()"
   ]
  },
  {
   "cell_type": "code",
   "execution_count": 23,
   "id": "3ed676a1",
   "metadata": {},
   "outputs": [],
   "source": [
    "def infer(model, image):\n",
    "    \"\"\"going to flip the model and infer from all possible angles then find overlapping mask\"\"\"\n",
    "    threshold = 0.2\n",
    "    \n",
    "    logits_normal = model(image)\n",
    "    normal_binarised = (logits_normal.numpy() > threshold).astype(np.uint8)\n",
    "    \n",
    "    logits_horizontal_flip = np.flip(model(np.flip(image, axis=0)), axis=0)\n",
    "    horizontal_binarised = (logits_horizontal_flip.numpy() > threshold).astype(np.uint8)\n",
    "    \n",
    "    logits_vertical_flip = np.flip(model(np.flip(image, axis=1)), axis=1)\n",
    "    vertical_binarised = (logits_vertical_flip.numpy() > threshold).astype(np.uint8)\n",
    "    \n",
    "    total_mask = (normal_binarised+horizontal_binarised+vertical_binarised).astype(np.float32)\n",
    "    #including on the final mask any region which more than one flip agrees on\n",
    "    total_mask = (total_mask > 2.0).astype(np.uint8)\n",
    "    return total_mask"
   ]
  },
  {
   "cell_type": "code",
   "execution_count": 42,
   "id": "f3e0f67e",
   "metadata": {},
   "outputs": [
    {
     "data": {
      "text/plain": [
       "<matplotlib.image.AxesImage at 0x14d65e2d190>"
      ]
     },
     "execution_count": 42,
     "metadata": {},
     "output_type": "execute_result"
    },
    {
     "data": {
      "image/png": "[encoded data removed]",
      "text/plain": [
       "<Figure size 432x288 with 1 Axes>"
      ]
     },
     "metadata": {
      "needs_background": "light"
     },
     "output_type": "display_data"
    },
    {
     "data": {
      "image/png": "[encoded data removed]",
      "text/plain": [
       "<Figure size 432x288 with 1 Axes>"
      ]
     },
     "metadata": {
      "needs_background": "light"
     },
     "output_type": "display_data"
    },
    {
     "data": {
      "text/plain": [
       "<Figure size 432x288 with 0 Axes>"
      ]
     },
     "metadata": {},
     "output_type": "display_data"
    },
    {
     "data": {
      "image/png": "[encoded data removed]",
      "text/plain": [
       "<Figure size 432x288 with 1 Axes>"
      ]
     },
     "metadata": {
      "needs_background": "light"
     },
     "output_type": "display_data"
    },
    {
     "data": {
      "image/png": "[encoded data removed]",
      "text/plain": [
       "<Figure size 432x288 with 1 Axes>"
      ]
     },
     "metadata": {
      "needs_background": "light"
     },
     "output_type": "display_data"
    }
   ],
   "source": [
    "test_batch = return_batch(val_data, 2, (512,512), augment=False)\n",
    "plt.figure()\n",
    "plt.imshow(test_batch[0][0][:,:,:3])\n",
    "plt.figure()\n",
    "plt.imshow(ksac_network.model(np.expand_dims(test_batch[0][0],0)).numpy().squeeze())\n",
    "plt.figure()\n",
    "inference = infer(ksac_network.model, np.expand_dims(test_batch[0][0],0))\n",
    "#plt.imshow(inference.squeeze())\n",
    "plt.figure()\n",
    "plt.imshow(test_batch[1][0])\n",
    "plt.figure()\n",
    "plt.imshow((inference.squeeze() + test_batch[1][0])/2)"
   ]
  },
  {
   "cell_type": "code",
   "execution_count": 20,
   "id": "5a7d8326",
   "metadata": {},
   "outputs": [],
   "source": [
    "def ensemble_infer(models, image):\n",
    "    total_mask = np.zeros((np.shape(image)[1], np.shape(image)[2],1))\n",
    "    for model in models:\n",
    "        total_mask += infer(model, image)\n",
    "    total_mask = (total_mask > len(models)/2).astype(np.uint8)\n",
    "    return total_mask"
   ]
  },
  {
   "cell_type": "code",
   "execution_count": 21,
   "id": "96d98fc7",
   "metadata": {},
   "outputs": [],
   "source": [
    "def test_model(model, data, img_size=(512,512)):\n",
    "    indices = range(len(data))\n",
    "    total_coef = 0\n",
    "    age_channel = np.zeros((len(data), img_size[0],img_size[1],1))\n",
    "    organ_channel = np.zeros((len(data), img_size[0],img_size[1],1))\n",
    "    sex_channel = np.zeros((len(data), img_size[0],img_size[1],1))\n",
    "    for i in range(0,len(data)):\n",
    "        \n",
    "        image = (cv2.imread(('train_images/'+str(data[indices[i]][0])+'.tiff')))\n",
    "        image = cv2.resize(image, (img_size))\n",
    "        image = image/255\n",
    "        \n",
    "        rle_string = data[indices[i]][-3]\n",
    "        img_height = data[indices[i]][3]\n",
    "        #mg_width = data[indices[i]][4]\n",
    "        \n",
    "        mask = rle_to_mask(rle_string, img_height)\n",
    "        mask = cv2.resize(mask, (img_size))\n",
    "        \n",
    "        #image, mask = augment_data(image, mask, img_size)\n",
    "        \n",
    "        \n",
    "        organ = data[indices[i]][1]\n",
    "        sex = data[indices[i]][-1]\n",
    "        age = data[indices[i]][-2]\n",
    "        \n",
    "        \n",
    "        organ_num = list(organs).index(organ)\n",
    "        sex_num = list(sexes).index(sex)\n",
    "        \n",
    "        \"\"\"normalising organ number and sex number to be between 0 and 1. Assumed maximum age as 200\"\"\"\n",
    "        organ_num /= len(organs)\n",
    "        sex_num /= len(sexes)\n",
    "        age /= 200\n",
    "        \n",
    "        age_channel[i] += age\n",
    "        organ_channel[i] += organ_num\n",
    "        sex_channel[i] += sex_num\n",
    "        \n",
    "        \n",
    "        image_plus = np.concatenate((image, age_channel[i], organ_channel[i], sex_channel[i]), axis = -1)\n",
    "        image_plus = np.expand_dims(image_plus, 0)\n",
    "        inference = infer(model, image_plus).squeeze()\n",
    "        dice_coefficient = dice_coef((mask), inference)\n",
    "        total_coef += dice_coefficient\n",
    "\n",
    "    return total_coef/len(data)"
   ]
  },
  {
   "cell_type": "code",
   "execution_count": 22,
   "id": "856341e4",
   "metadata": {},
   "outputs": [
    {
     "ename": "ValueError",
     "evalue": "Input 0 of layer \"model_1\" is incompatible with the layer: expected shape=(None, 512, 512, 3), found shape=(1, 512, 512, 6)",
     "output_type": "error",
     "traceback": [
      "\u001b[1;31m---------------------------------------------------------------------------\u001b[0m",
      "\u001b[1;31mValueError\u001b[0m                                Traceback (most recent call last)",
      "\u001b[1;32m~\\AppData\\Local\\Temp/ipykernel_2228/4044344513.py\u001b[0m in \u001b[0;36m<module>\u001b[1;34m\u001b[0m\n\u001b[1;32m----> 1\u001b[1;33m \u001b[0mprint\u001b[0m\u001b[1;33m(\u001b[0m\u001b[0mtest_model\u001b[0m\u001b[1;33m(\u001b[0m\u001b[0mksac_network\u001b[0m\u001b[1;33m.\u001b[0m\u001b[0mmodel\u001b[0m\u001b[1;33m,\u001b[0m \u001b[0mval_data\u001b[0m\u001b[1;33m)\u001b[0m\u001b[1;33m)\u001b[0m\u001b[1;33m\u001b[0m\u001b[1;33m\u001b[0m\u001b[0m\n\u001b[0m",
      "\u001b[1;32m~\\AppData\\Local\\Temp/ipykernel_2228/569546071.py\u001b[0m in \u001b[0;36mtest_model\u001b[1;34m(model, data, img_size)\u001b[0m\n\u001b[0;32m     41\u001b[0m         \u001b[0mimage_plus\u001b[0m \u001b[1;33m=\u001b[0m \u001b[0mnp\u001b[0m\u001b[1;33m.\u001b[0m\u001b[0mconcatenate\u001b[0m\u001b[1;33m(\u001b[0m\u001b[1;33m(\u001b[0m\u001b[0mimage\u001b[0m\u001b[1;33m,\u001b[0m \u001b[0mage_channel\u001b[0m\u001b[1;33m[\u001b[0m\u001b[0mi\u001b[0m\u001b[1;33m]\u001b[0m\u001b[1;33m,\u001b[0m \u001b[0morgan_channel\u001b[0m\u001b[1;33m[\u001b[0m\u001b[0mi\u001b[0m\u001b[1;33m]\u001b[0m\u001b[1;33m,\u001b[0m \u001b[0msex_channel\u001b[0m\u001b[1;33m[\u001b[0m\u001b[0mi\u001b[0m\u001b[1;33m]\u001b[0m\u001b[1;33m)\u001b[0m\u001b[1;33m,\u001b[0m \u001b[0maxis\u001b[0m \u001b[1;33m=\u001b[0m \u001b[1;33m-\u001b[0m\u001b[1;36m1\u001b[0m\u001b[1;33m)\u001b[0m\u001b[1;33m\u001b[0m\u001b[1;33m\u001b[0m\u001b[0m\n\u001b[0;32m     42\u001b[0m         \u001b[0mimage_plus\u001b[0m \u001b[1;33m=\u001b[0m \u001b[0mnp\u001b[0m\u001b[1;33m.\u001b[0m\u001b[0mexpand_dims\u001b[0m\u001b[1;33m(\u001b[0m\u001b[0mimage_plus\u001b[0m\u001b[1;33m,\u001b[0m \u001b[1;36m0\u001b[0m\u001b[1;33m)\u001b[0m\u001b[1;33m\u001b[0m\u001b[1;33m\u001b[0m\u001b[0m\n\u001b[1;32m---> 43\u001b[1;33m         \u001b[0minference\u001b[0m \u001b[1;33m=\u001b[0m \u001b[0minfer\u001b[0m\u001b[1;33m(\u001b[0m\u001b[0mmodel\u001b[0m\u001b[1;33m,\u001b[0m \u001b[0mimage_plus\u001b[0m\u001b[1;33m)\u001b[0m\u001b[1;33m.\u001b[0m\u001b[0msqueeze\u001b[0m\u001b[1;33m(\u001b[0m\u001b[1;33m)\u001b[0m\u001b[1;33m\u001b[0m\u001b[1;33m\u001b[0m\u001b[0m\n\u001b[0m\u001b[0;32m     44\u001b[0m         \u001b[0mdice_coefficient\u001b[0m \u001b[1;33m=\u001b[0m \u001b[0mdice_coef\u001b[0m\u001b[1;33m(\u001b[0m\u001b[1;33m(\u001b[0m\u001b[0mmask\u001b[0m\u001b[1;33m)\u001b[0m\u001b[1;33m,\u001b[0m \u001b[0minference\u001b[0m\u001b[1;33m)\u001b[0m\u001b[1;33m\u001b[0m\u001b[1;33m\u001b[0m\u001b[0m\n\u001b[0;32m     45\u001b[0m         \u001b[0mtotal_coef\u001b[0m \u001b[1;33m+=\u001b[0m \u001b[0mdice_coefficient\u001b[0m\u001b[1;33m\u001b[0m\u001b[1;33m\u001b[0m\u001b[0m\n",
      "\u001b[1;32m~\\AppData\\Local\\Temp/ipykernel_2228/950666062.py\u001b[0m in \u001b[0;36minfer\u001b[1;34m(model, image)\u001b[0m\n\u001b[0;32m      3\u001b[0m     \u001b[0mthreshold\u001b[0m \u001b[1;33m=\u001b[0m \u001b[1;36m0.2\u001b[0m\u001b[1;33m\u001b[0m\u001b[1;33m\u001b[0m\u001b[0m\n\u001b[0;32m      4\u001b[0m \u001b[1;33m\u001b[0m\u001b[0m\n\u001b[1;32m----> 5\u001b[1;33m     \u001b[0mlogits_normal\u001b[0m \u001b[1;33m=\u001b[0m \u001b[0mmodel\u001b[0m\u001b[1;33m(\u001b[0m\u001b[0mimage\u001b[0m\u001b[1;33m)\u001b[0m\u001b[1;33m\u001b[0m\u001b[1;33m\u001b[0m\u001b[0m\n\u001b[0m\u001b[0;32m      6\u001b[0m     \u001b[0mnormal_binarised\u001b[0m \u001b[1;33m=\u001b[0m \u001b[1;33m(\u001b[0m\u001b[0mlogits_normal\u001b[0m\u001b[1;33m.\u001b[0m\u001b[0mnumpy\u001b[0m\u001b[1;33m(\u001b[0m\u001b[1;33m)\u001b[0m \u001b[1;33m>\u001b[0m \u001b[0mthreshold\u001b[0m\u001b[1;33m)\u001b[0m\u001b[1;33m.\u001b[0m\u001b[0mastype\u001b[0m\u001b[1;33m(\u001b[0m\u001b[0mnp\u001b[0m\u001b[1;33m.\u001b[0m\u001b[0muint8\u001b[0m\u001b[1;33m)\u001b[0m\u001b[1;33m\u001b[0m\u001b[1;33m\u001b[0m\u001b[0m\n\u001b[0;32m      7\u001b[0m \u001b[1;33m\u001b[0m\u001b[0m\n",
      "\u001b[1;32m~\\.conda\\envs\\tensorflow25\\lib\\site-packages\\keras\\utils\\traceback_utils.py\u001b[0m in \u001b[0;36merror_handler\u001b[1;34m(*args, **kwargs)\u001b[0m\n\u001b[0;32m     65\u001b[0m     \u001b[1;32mexcept\u001b[0m \u001b[0mException\u001b[0m \u001b[1;32mas\u001b[0m \u001b[0me\u001b[0m\u001b[1;33m:\u001b[0m  \u001b[1;31m# pylint: disable=broad-except\u001b[0m\u001b[1;33m\u001b[0m\u001b[1;33m\u001b[0m\u001b[0m\n\u001b[0;32m     66\u001b[0m       \u001b[0mfiltered_tb\u001b[0m \u001b[1;33m=\u001b[0m \u001b[0m_process_traceback_frames\u001b[0m\u001b[1;33m(\u001b[0m\u001b[0me\u001b[0m\u001b[1;33m.\u001b[0m\u001b[0m__traceback__\u001b[0m\u001b[1;33m)\u001b[0m\u001b[1;33m\u001b[0m\u001b[1;33m\u001b[0m\u001b[0m\n\u001b[1;32m---> 67\u001b[1;33m       \u001b[1;32mraise\u001b[0m \u001b[0me\u001b[0m\u001b[1;33m.\u001b[0m\u001b[0mwith_traceback\u001b[0m\u001b[1;33m(\u001b[0m\u001b[0mfiltered_tb\u001b[0m\u001b[1;33m)\u001b[0m \u001b[1;32mfrom\u001b[0m \u001b[1;32mNone\u001b[0m\u001b[1;33m\u001b[0m\u001b[1;33m\u001b[0m\u001b[0m\n\u001b[0m\u001b[0;32m     68\u001b[0m     \u001b[1;32mfinally\u001b[0m\u001b[1;33m:\u001b[0m\u001b[1;33m\u001b[0m\u001b[1;33m\u001b[0m\u001b[0m\n\u001b[0;32m     69\u001b[0m       \u001b[1;32mdel\u001b[0m \u001b[0mfiltered_tb\u001b[0m\u001b[1;33m\u001b[0m\u001b[1;33m\u001b[0m\u001b[0m\n",
      "\u001b[1;32m~\\.conda\\envs\\tensorflow25\\lib\\site-packages\\keras\\engine\\input_spec.py\u001b[0m in \u001b[0;36massert_input_compatibility\u001b[1;34m(input_spec, inputs, layer_name)\u001b[0m\n\u001b[0;32m    262\u001b[0m         \u001b[1;32mif\u001b[0m \u001b[0mspec_dim\u001b[0m \u001b[1;32mis\u001b[0m \u001b[1;32mnot\u001b[0m \u001b[1;32mNone\u001b[0m \u001b[1;32mand\u001b[0m \u001b[0mdim\u001b[0m \u001b[1;32mis\u001b[0m \u001b[1;32mnot\u001b[0m \u001b[1;32mNone\u001b[0m\u001b[1;33m:\u001b[0m\u001b[1;33m\u001b[0m\u001b[1;33m\u001b[0m\u001b[0m\n\u001b[0;32m    263\u001b[0m           \u001b[1;32mif\u001b[0m \u001b[0mspec_dim\u001b[0m \u001b[1;33m!=\u001b[0m \u001b[0mdim\u001b[0m\u001b[1;33m:\u001b[0m\u001b[1;33m\u001b[0m\u001b[1;33m\u001b[0m\u001b[0m\n\u001b[1;32m--> 264\u001b[1;33m             raise ValueError(f'Input {input_index} of layer \"{layer_name}\" is '\n\u001b[0m\u001b[0;32m    265\u001b[0m                              \u001b[1;34m'incompatible with the layer: '\u001b[0m\u001b[1;33m\u001b[0m\u001b[1;33m\u001b[0m\u001b[0m\n\u001b[0;32m    266\u001b[0m                              \u001b[1;34mf'expected shape={spec.shape}, '\u001b[0m\u001b[1;33m\u001b[0m\u001b[1;33m\u001b[0m\u001b[0m\n",
      "\u001b[1;31mValueError\u001b[0m: Input 0 of layer \"model_1\" is incompatible with the layer: expected shape=(None, 512, 512, 3), found shape=(1, 512, 512, 6)"
     ]
    }
   ],
   "source": [
    "print(test_model(ksac_network.model, val_data))"
   ]
  },
  {
   "cell_type": "code",
   "execution_count": null,
   "id": "18003635",
   "metadata": {},
   "outputs": [],
   "source": []
  }
 ],
 "metadata": {
  "kernelspec": {
   "display_name": "Python 3.8 (tensorflow25)",
   "language": "python",
   "name": "tensorflow25"
  },
  "language_info": {
   "codemirror_mode": {
    "name": "ipython",
    "version": 3
   },
   "file_extension": ".py",
   "mimetype": "text/x-python",
   "name": "python",
   "nbconvert_exporter": "python",
   "pygments_lexer": "ipython3",
   "version": "3.8.12"
  }
 },
 "nbformat": 4,
 "nbformat_minor": 5
}
